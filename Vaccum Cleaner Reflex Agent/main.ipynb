{
 "cells": [
  {
   "attachments": {},
   "cell_type": "markdown",
   "metadata": {},
   "source": [
    "**Initial Functions**"
   ]
  },
  {
   "cell_type": "code",
   "execution_count": 7,
   "metadata": {},
   "outputs": [],
   "source": [
    "# Define actions\n",
    "CLEAN = 0\n",
    "DIRTY = 1\n",
    "\n",
    "# Define states and goal state\n",
    "STATES = ['A', 'B', 'C']\n",
    "GOAL_STATE = {'A': 0, 'B': 0, 'C': 0}\n",
    "\n",
    "# Define transition model\n",
    "TRANSITION_MODEL = {\n",
    "    'A': {'right': 'B', 'clean': 0},\n",
    "    'B': {'left': 'A', 'right': 'C', 'clean': 0},\n",
    "    'C': {'left': 'B', 'clean': 0}\n",
    "}\n",
    "\n",
    "# Define goal test\n",
    "def is_goal_state(state):\n",
    "    return state == GOAL_STATE\n",
    "\n",
    "# Define path cost function\n",
    "def path_cost(action):\n",
    "    return 1"
   ]
  },
  {
   "attachments": {},
   "cell_type": "markdown",
   "metadata": {},
   "source": [
    "**Defining Reflex Agent**"
   ]
  },
  {
   "cell_type": "code",
   "execution_count": 8,
   "metadata": {},
   "outputs": [],
   "source": [
    "# Define reflex agent function\n",
    "def reflex_agent(location, status, environment):\n",
    "    if status == DIRTY:\n",
    "        return CLEAN\n",
    "    elif location == 'A':\n",
    "        return 'right'\n",
    "    elif location == 'B':\n",
    "        if environment['A'] == DIRTY:\n",
    "            return 'left'\n",
    "        else:\n",
    "            return 'right'\n",
    "    elif location == 'C':\n",
    "        return 'left'"
   ]
  },
  {
   "attachments": {},
   "cell_type": "markdown",
   "metadata": {},
   "source": [
    "**Running Reflex Agent**"
   ]
  },
  {
   "cell_type": "code",
   "execution_count": 9,
   "metadata": {},
   "outputs": [],
   "source": [
    "# Define function to run agent for given inputs\n",
    "def run_agent(location, status, environment):\n",
    "    state = {location: status}\n",
    "    path = []\n",
    "    while not is_goal_state(state):\n",
    "        action = reflex_agent(location, status, environment)\n",
    "        path.append(action)\n",
    "        if action == CLEAN:\n",
    "            state[location] = CLEAN\n",
    "            status = CLEAN\n",
    "        elif action == 'left':\n",
    "            location = TRANSITION_MODEL[location]['left']\n",
    "            status = environment[location]\n",
    "        elif action == 'right':\n",
    "            location = TRANSITION_MODEL[location]['right']\n",
    "            status = environment[location]\n",
    "    return path, len(path)\n"
   ]
  },
  {
   "attachments": {},
   "cell_type": "markdown",
   "metadata": {},
   "source": [
    "**Main**"
   ]
  },
  {
   "cell_type": "code",
   "execution_count": 11,
   "metadata": {},
   "outputs": [
    {
     "name": "stdout",
     "output_type": "stream",
     "text": [
      "Path:  ['right', 0, 'right', 0]\n",
      "Cost:  4\n"
     ]
    }
   ],
   "source": [
    "if __name__ == '__main__':\n",
    "    # Example usage\n",
    "    location = input(\"Enter location (A/B/C): \")\n",
    "    status = int(input(\"Enter status of current location (0/1): \"))\n",
    "    environment = {\n",
    "        'A': int(input(\"Enter status of A (0/1): \")),\n",
    "        'B': int(input(\"Enter status of B (0/1): \")),\n",
    "        'C': int(input(\"Enter status of C (0/1): \"))\n",
    "    }\n",
    "    path, cost = run_agent(location, status, environment)\n",
    "    print(\"Path: \", path)\n",
    "    print(\"Cost: \", cost)\n"
   ]
  }
 ],
 "metadata": {
  "kernelspec": {
   "display_name": "Python 3",
   "language": "python",
   "name": "python3"
  },
  "language_info": {
   "codemirror_mode": {
    "name": "ipython",
    "version": 3
   },
   "file_extension": ".py",
   "mimetype": "text/x-python",
   "name": "python",
   "nbconvert_exporter": "python",
   "pygments_lexer": "ipython3",
   "version": "3.10.10"
  },
  "orig_nbformat": 4
 },
 "nbformat": 4,
 "nbformat_minor": 2
}
