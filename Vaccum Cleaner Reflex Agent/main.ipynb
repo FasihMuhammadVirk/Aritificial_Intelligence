{
 "cells": [
  {
   "attachments": {},
   "cell_type": "markdown",
   "metadata": {},
   "source": [
    "**Initial Functions**"
   ]
  },
  {
   "cell_type": "code",
   "execution_count": 25,
   "metadata": {},
   "outputs": [],
   "source": [
    "\n",
    "#Goal State that the vacuum has to achieved\n",
    "goal_state = {'A':0,'B':0,'C':0}\n",
    "\n",
    "#Neighbors of all the Given Rooms\n",
    "neighbors = {'A':{'Right': 'B','Left':None}, 'B':{'Right':'C','Left':'A'},'C':{'Right':None,'Left':'B'}}\n",
    "\n",
    "#Taking Input on which Room Vacuum Currently is \n",
    "vacuum_location = input(\"Enter location of the Vacuum (A/B/C): \")\n",
    "\n",
    "#Defining the current state of the Rooms \n",
    "current_state = {\n",
    "    'A': int(input(\"Enter status of A (0/1): \")),\n",
    "    'B': int(input(\"Enter status of B (0/1): \")),\n",
    "    'C': int(input(\"Enter status of C (0/1): \"))\n",
    "}\n",
    "\n"
   ]
  },
  {
   "attachments": {},
   "cell_type": "markdown",
   "metadata": {},
   "source": [
    "**Defining Reflex Agent**"
   ]
  },
  {
   "cell_type": "code",
   "execution_count": 26,
   "metadata": {},
   "outputs": [],
   "source": [
    "#defining the Reflex Agent to clean the Rooms\n",
    "def reflex_agent(initial,state,goal_state,neighbors):\n",
    "    \n",
    "    current_state = state.copy()\n",
    "    \n",
    "    #Cost for cleaning all rooms on the left \n",
    "    cost_r = 0 \n",
    "\n",
    "    starting_state = initial\n",
    "    \n",
    "    #the last room that the vacuum clean on the right of the given room \n",
    "    global last_node\n",
    "\n",
    "    #loop for cleaning all the rooms that are on the Right Side of the given Room\n",
    "    for key in neighbors.keys():\n",
    "\n",
    "        if starting_state == key:\n",
    "            if starting_state is not None:\n",
    "\n",
    "                if current_state[key] != 0:\n",
    "                    current_state[key] = 0\n",
    "                    cost_r += 1  \n",
    "                else:\n",
    "                    cost_r += 1\n",
    "                starting_state = neighbors[key]['Right']\n",
    "\n",
    "                if neighbors[key]['Right'] == None:\n",
    "                    last_node = key \n",
    "                else:\n",
    "                    last_node = neighbors[key]['Right']\n",
    "\n",
    "    #cost for cleaning all rooms on the left of the last room vacuum clean \n",
    "    cost_l = 0 \n",
    "    \n",
    "    #loop for cleaning all the room that are on the left side of the last room vacuum clean \n",
    "    while True:\n",
    "\n",
    "        if goal_state == current_state:\n",
    "            break \n",
    " \n",
    "        for key in neighbors.keys():\n",
    "\n",
    "            if last_node == key:\n",
    "                if last_node is not None:\n",
    "\n",
    "                    if current_state[key] != 0:\n",
    "\n",
    "                        current_state[key] = 0\n",
    "                        cost_l += 1 \n",
    "\n",
    "                    else:\n",
    "                        cost_l += 1    \n",
    "                         \n",
    "                    last_node = neighbors[key]['Left']\n",
    "\n",
    "    #calculating the total cost\n",
    "    cost = cost_l + cost_r\n",
    "\n",
    "    #returning the total cost and the state of all room after cleaning \n",
    "    return current_state , cost \n",
    "\n"
   ]
  },
  {
   "attachments": {},
   "cell_type": "markdown",
   "metadata": {},
   "source": [
    "**Running Reflex Agent**"
   ]
  },
  {
   "cell_type": "code",
   "execution_count": 27,
   "metadata": {},
   "outputs": [],
   "source": [
    "#Calling the Reflex_Agent to clean the Room \n",
    "final_state , cost = reflex_agent(vacuum_location,current_state,goal_state,neighbors)"
   ]
  },
  {
   "attachments": {},
   "cell_type": "markdown",
   "metadata": {},
   "source": [
    "**Main**"
   ]
  },
  {
   "cell_type": "code",
   "execution_count": 29,
   "metadata": {},
   "outputs": [
    {
     "name": "stdout",
     "output_type": "stream",
     "text": [
      "Rooms State Before the Vacuum Cleans them:  {'A': 1, 'B': 1, 'C': 1}\n",
      "Rooms State After Vacuum Cleans them:  {'A': 0, 'B': 0, 'C': 0}\n",
      "Total Cost :  5\n"
     ]
    }
   ],
   "source": [
    "#Printing the Output \n",
    "print(\"Rooms State Before the Vacuum Cleans them: \", current_state)\n",
    "print(\"Rooms State After Vacuum Cleans them: \", final_state)\n",
    "print(\"Total Cost : \",cost)\n"
   ]
  }
 ],
 "metadata": {
  "kernelspec": {
   "display_name": "Python 3",
   "language": "python",
   "name": "python3"
  },
  "language_info": {
   "codemirror_mode": {
    "name": "ipython",
    "version": 3
   },
   "file_extension": ".py",
   "mimetype": "text/x-python",
   "name": "python",
   "nbconvert_exporter": "python",
   "pygments_lexer": "ipython3",
   "version": "3.10.10"
  },
  "orig_nbformat": 4
 },
 "nbformat": 4,
 "nbformat_minor": 2
}
