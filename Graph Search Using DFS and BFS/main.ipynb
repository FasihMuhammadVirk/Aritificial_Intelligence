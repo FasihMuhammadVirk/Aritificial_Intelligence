{
 "cells": [
  {
   "attachments": {},
   "cell_type": "markdown",
   "metadata": {},
   "source": [
    "**Data Set**"
   ]
  },
  {
   "cell_type": "code",
   "execution_count": 1,
   "metadata": {},
   "outputs": [],
   "source": [
    "class data_set():\n",
    "\n",
    "    maze = [\n",
    "        \n",
    "            ['A',1,1,1],\n",
    "            [0,1,1,0],\n",
    "            [0,0,0,0],\n",
    "            [0,1,1,0],\n",
    "            [1,0,0,'G']\n",
    "            \n",
    "            ]"
   ]
  },
  {
   "attachments": {},
   "cell_type": "markdown",
   "metadata": {},
   "source": [
    "**Class Breadth First Search**"
   ]
  },
  {
   "cell_type": "code",
   "execution_count": 2,
   "metadata": {},
   "outputs": [],
   "source": [
    "class Breadth_First_Search(data_set):\n",
    "\n",
    "    def __init__(self) :\n",
    "        self.maze = data_set.maze \n",
    "    \n",
    "    def find_path(self):\n",
    "        queue = [(0, 0, [])]  \n",
    "        visited = set()\n",
    "        rows, cols = len(self.maze), len(self.maze[0])\n",
    "\n",
    "        while queue:\n",
    "            row, col, path = queue.pop(0)\n",
    "            if (row, col) not in visited:\n",
    "                visited.add((row, col))\n",
    "                if self.maze[row][col] == 'G':\n",
    "                    return path + [(row, col)]\n",
    "                for r, c in ((row-1, col), (row, col+1), (row+1, col), (row, col-1)):\n",
    "                    if 0 <= r < rows and 0 <= c < cols and self.maze[r][c] != 1 and (r, c) not in visited:\n",
    "                        queue.append((r, c, path + [(row, col)]))\n",
    "\n",
    "        return None  \n",
    "    \n",
    "    def output_path(self):\n",
    "        lst = []\n",
    "        path = self.find_path()\n",
    "        for i,j in path:\n",
    "            lst.append(self.maze[i][j])    \n",
    "        print(\"Path: \",lst)\n"
   ]
  },
  {
   "attachments": {},
   "cell_type": "markdown",
   "metadata": {},
   "source": [
    "**Class Depth First Search**"
   ]
  },
  {
   "cell_type": "code",
   "execution_count": 3,
   "metadata": {},
   "outputs": [],
   "source": [
    "class Depth_First_Search(data_set):\n",
    "        \n",
    "    def __init__(self):\n",
    "        self.maze = data_set.maze\n",
    "    \n",
    "    def find_path(self):\n",
    "        stack = [(0, 0, [])]  \n",
    "        visited = set()\n",
    "        rows, cols = len(self.maze), len(self.maze[0])\n",
    "\n",
    "        while stack:\n",
    "            row, col, path = stack.pop()\n",
    "            if (row, col) not in visited:\n",
    "                visited.add((row, col))\n",
    "                if self.maze[row][col] == 'G':\n",
    "                    return path + [(row, col)]\n",
    "                for r, c in ((row-1, col), (row, col+1), (row+1, col), (row, col-1)):\n",
    "                    if 0 <= r < rows and 0 <= c < cols and self.maze[r][c] != 1 and (r, c) not in visited:\n",
    "                        stack.append((r, c , path + [(row, col)]))\n",
    "\n",
    "        return None  \n",
    "\n",
    "    def output_path(self):\n",
    "        lst = []\n",
    "        path = self.find_path()\n",
    "        for i ,j in path:\n",
    "            lst.append(self.maze[i][j])\n",
    "        print(\"Path: \",lst)\n"
   ]
  },
  {
   "attachments": {},
   "cell_type": "markdown",
   "metadata": {},
   "source": [
    "**Main**"
   ]
  },
  {
   "cell_type": "code",
   "execution_count": 4,
   "metadata": {},
   "outputs": [
    {
     "name": "stdout",
     "output_type": "stream",
     "text": [
      "Breadth First Search\n",
      "Nodes:  [(0, 0), (1, 0), (2, 0), (2, 1), (2, 2), (2, 3), (3, 3), (4, 3)]\n",
      "Path:  ['A', 0, 0, 0, 0, 0, 0, 'G']\n",
      "\n",
      "Depth First Search\n",
      "Nodes:  [(0, 0), (1, 0), (2, 0), (2, 1), (2, 2), (2, 3), (3, 3), (4, 3)]\n",
      "Path:  ['A', 0, 0, 0, 0, 0, 0, 'G']\n"
     ]
    }
   ],
   "source": [
    "if __name__ == '__main__':\n",
    "    bfs = Breadth_First_Search()\n",
    "    dfs = Depth_First_Search()\n",
    "\n",
    "    print(\"Breadth First Search\")\n",
    "    print(\"Nodes: \" , bfs.find_path())\n",
    "    bfs.output_path()\n",
    "    print()\n",
    "    print(\"Depth First Search\")\n",
    "    print(\"Nodes: \",dfs.find_path())\n",
    "    dfs.output_path()\n"
   ]
  }
 ],
 "metadata": {
  "kernelspec": {
   "display_name": "Python 3",
   "language": "python",
   "name": "python3"
  },
  "language_info": {
   "codemirror_mode": {
    "name": "ipython",
    "version": 3
   },
   "file_extension": ".py",
   "mimetype": "text/x-python",
   "name": "python",
   "nbconvert_exporter": "python",
   "pygments_lexer": "ipython3",
   "version": "3.10.10"
  },
  "orig_nbformat": 4
 },
 "nbformat": 4,
 "nbformat_minor": 2
}
