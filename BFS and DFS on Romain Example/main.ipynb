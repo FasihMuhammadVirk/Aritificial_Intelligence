{
 "cells": [
  {
   "attachments": {},
   "cell_type": "markdown",
   "metadata": {},
   "source": [
    "**Data Set**"
   ]
  },
  {
   "cell_type": "code",
   "execution_count": 1,
   "metadata": {},
   "outputs": [],
   "source": [
    "#Data Set Required for the Task\n",
    "class data_set():\n",
    "            \n",
    "    # Define the graph using an adjacency list\n",
    "    graph = {\n",
    "        'Arad': {'Zerind': 75, 'Sibiu': 140, 'Timisoara': 118},\n",
    "        'Zerind': {'Arad': 75, 'Oradea': 71},\n",
    "        'Oradea': {'Zerind': 71, 'Sibiu': 151},\n",
    "        'Sibiu': {'Arad': 140, 'Oradea': 151, 'Rimnicu Vilcea': 80, 'Fagaras': 99},\n",
    "        'Timisoara': {'Arad': 118, 'Lugoj': 111},\n",
    "        'Lugoj': {'Timisoara': 111, 'Mehadia': 70},\n",
    "        'Mehadia': {'Lugoj': 70, 'Dobreta': 75},\n",
    "        'Dobreta': {'Mehadia': 75, 'Craiova': 120},\n",
    "        'Craiova': {'Dobreta': 120, 'Rimnicu Vilcea': 146, 'Pitesti': 138},\n",
    "        'Rimnicu Vilcea': {'Sibiu': 80, 'Pitesti': 97, 'Craiova': 146},\n",
    "        'Pitesti': {'Rimnicu Vilcea': 97, 'Craiova': 138, 'Bucharest': 101},\n",
    "        'Fagaras': {'Sibiu': 99, 'Bucharest': 211},\n",
    "        'Bucharest': {'Pitesti': 101, 'Fagaras': 211, 'Giurgiu': 90, 'Urziceni': 85},\n",
    "        'Giurgiu': {'Bucharest': 90},\n",
    "        'Urziceni': {'Bucharest': 85, 'Hirsova': 98, 'Vaslui': 142},\n",
    "        'Hirsova': {'Urziceni': 98, 'Eforie': 86},\n",
    "        'Eforie': {'Hirsova': 86},\n",
    "        'Vaslui': {'Iasi': 92, 'Urziceni': 142},\n",
    "        'Iasi': {'Vaslui': 92, 'Neamt': 87},\n",
    "        'Neamt': {'Iasi': 87}\n",
    "    }\n",
    "    "
   ]
  },
  {
   "attachments": {},
   "cell_type": "markdown",
   "metadata": {},
   "source": [
    "**Depth First Search**"
   ]
  },
  {
   "cell_type": "code",
   "execution_count": 2,
   "metadata": {},
   "outputs": [],
   "source": [
    "#Depth First Search Class\n",
    "class Depth_First_Search(data_set):\n",
    "\n",
    "    def __init__(self,source, destination):\n",
    "        self.graph = data_set.graph\n",
    "        self.source = source \n",
    "        self.destination = destination\n",
    "\n",
    "    # Finding the Shortest Path Using the Depth First Search\n",
    "    def finding_shortest_path(self):\n",
    "        stack = [(self.source, [self.source], 0)]\n",
    "        visited = set()\n",
    "\n",
    "        while stack:\n",
    "            (current, path, distance) = stack.pop()\n",
    "            visited.add(current)\n",
    "\n",
    "            if current == self.destination:\n",
    "                return path, distance\n",
    "\n",
    "            for neighbor, weight in self.graph[current].items():\n",
    "                if neighbor not in visited:\n",
    "                    stack.append((neighbor, path + [neighbor], distance + weight))\n",
    "\n",
    "        return None\n",
    "    \n",
    "    def output_shortest_path(self):\n",
    "        \n",
    "        print('The Shortest Path Found Using the Depth First Search is: ', self.finding_shortest_path(),'\\n')\n"
   ]
  },
  {
   "attachments": {},
   "cell_type": "markdown",
   "metadata": {},
   "source": [
    "**Breadth First Search**"
   ]
  },
  {
   "cell_type": "code",
   "execution_count": 3,
   "metadata": {},
   "outputs": [],
   "source": [
    "\n",
    "#Breadth First Search Algorithm Class\n",
    "class Breadth_First_Search(data_set):\n",
    "\n",
    "    def __init__(self, source , destination):\n",
    "        self.graph = data_set.graph\n",
    "        self.source = source \n",
    "        self.destination = destination\n",
    "\n",
    "    # Finding the Shortest Path Using the Breadth First Search\n",
    "    def finding_shortest_path(self ):\n",
    "        queue = [(self.source , [self.source ], 0)]\n",
    "        visited = set()\n",
    "\n",
    "        while queue:\n",
    "            (current, path, distance) = queue.pop(0)\n",
    "            visited.add(current)\n",
    "\n",
    "            if current == self.destination:\n",
    "                return path, distance\n",
    "\n",
    "            for neighbor, weight in self.graph[current].items():\n",
    "                if neighbor not in visited:\n",
    "                    queue.append((neighbor, path + [neighbor], distance + weight))\n",
    "\n",
    "        return None   \n",
    "\n",
    "    def output_shortest_path(self):\n",
    "        \n",
    "        print('The Shortest Path Found Using the Breadth First Search is: ', self.finding_shortest_path(),'\\n')\n",
    "\n",
    "\n",
    "\n"
   ]
  },
  {
   "attachments": {},
   "cell_type": "markdown",
   "metadata": {},
   "source": [
    "**Perfromance**"
   ]
  },
  {
   "cell_type": "code",
   "execution_count": 4,
   "metadata": {},
   "outputs": [],
   "source": [
    "#Checking Which Give the Shortest path and Outperformed the Other\n",
    "def outperform_other(bfs,dfs):\n",
    "    if bfs[1] < dfs[1]:\n",
    "        print('Breadth First Search Outperformed the Depth First Search\\n')\n",
    "    elif bfs[1] == dfs[1]:\n",
    "        print('Both Gave the Same Answer\\n')\n",
    "    else:\n",
    "        print('Depth First Search Outperformed the Breadth First Search\\n')\n",
    "        "
   ]
  },
  {
   "attachments": {},
   "cell_type": "markdown",
   "metadata": {},
   "source": [
    "**Main**"
   ]
  },
  {
   "cell_type": "code",
   "execution_count": 5,
   "metadata": {},
   "outputs": [
    {
     "name": "stdout",
     "output_type": "stream",
     "text": [
      "The Shortest Path Found Using the Breadth First Search is:  (['Arad', 'Sibiu', 'Fagaras', 'Bucharest'], 450) \n",
      "\n",
      "The Shortest Path Found Using the Depth First Search is:  (['Arad', 'Timisoara', 'Lugoj', 'Mehadia', 'Dobreta', 'Craiova', 'Pitesti', 'Bucharest'], 733) \n",
      "\n",
      "Breadth First Search Outperformed the Depth First Search\n",
      "\n"
     ]
    }
   ],
   "source": [
    "#Main\n",
    "if __name__ == '__main__':\n",
    "    \n",
    "    #Starting Point\n",
    "    source = 'Arad'\n",
    "    #Goal \n",
    "    destination = 'Bucharest'\n",
    "\n",
    "    #Object of the Breadth First Search Class\n",
    "    bfs = Breadth_First_Search(source,destination)\n",
    "    #Object of the Depth First Search Class\n",
    "    dfs = Depth_First_Search(source,destination)\n",
    "    \n",
    "    #Printing the Shortest Path Using the BFS \n",
    "    bfs.output_shortest_path()\n",
    "    #Printing the Shortest Path Using the DFS \n",
    "    dfs.output_shortest_path()\n",
    "    \n",
    "    #Checking the Performance\n",
    "    outperform_other(bfs.finding_shortest_path(),dfs.finding_shortest_path())"
   ]
  }
 ],
 "metadata": {
  "kernelspec": {
   "display_name": "Python 3",
   "language": "python",
   "name": "python3"
  },
  "language_info": {
   "codemirror_mode": {
    "name": "ipython",
    "version": 3
   },
   "file_extension": ".py",
   "mimetype": "text/x-python",
   "name": "python",
   "nbconvert_exporter": "python",
   "pygments_lexer": "ipython3",
   "version": "3.10.10"
  },
  "orig_nbformat": 4
 },
 "nbformat": 4,
 "nbformat_minor": 2
}
